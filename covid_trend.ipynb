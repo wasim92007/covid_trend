{
 "cells": [
  {
   "cell_type": "code",
   "execution_count": null,
   "id": "d740465c",
   "metadata": {},
   "outputs": [],
   "source": [
    "## All the external libraries\n",
    "import re\n",
    "import csv\n",
    "from getpass import getpass\n",
    "from time import sleep\n",
    "import random\n",
    "\n",
    "from selenium import webdriver\n",
    "from selenium.webdriver.chrome.service import Service\n",
    "from webdriver_manager.chrome import ChromeDriverManager\n",
    "\n",
    "from selenium.webdriver.common.keys import Keys\n",
    "from selenium.common.exceptions import NoSuchElementException\n",
    "#from msedge.selenium_tools import Edge, EdgeOptions\n",
    "from selenium.webdriver import Chrome"
   ]
  },
  {
   "cell_type": "code",
   "execution_count": null,
   "id": "ac02d7b6",
   "metadata": {},
   "outputs": [],
   "source": [
    "## All the internal libraries"
   ]
  },
  {
   "cell_type": "code",
   "execution_count": null,
   "id": "5e6faed4",
   "metadata": {},
   "outputs": [],
   "source": [
    "####### All the functions #######\n",
    "\n",
    "## Get random time offset\n",
    "def get_rand_offset(t=4):\n",
    "    r = random.randint(0, t)\n",
    "    r += random.random()\n",
    "    return r\n",
    "\n",
    "#### Get the browser\n",
    "## Return <class 'selenium.webdriver.chrome.webdriver.WebDriver'>\n",
    "## Opens an empty browser\n",
    "def get_driver():\n",
    "    if driver == None:\n",
    "        return webdriver.Chrome(service=Service(ChromeDriverManager().install()))\n",
    "    else:\n",
    "        return driver\n",
    "\n",
    "## Go to address\n",
    "def visit_site(site=\"https://www.google.com\"):\n",
    "    driver.get(site)\n",
    "    \n",
    "## Add tweets to file\n",
    "def write_to_file(fname, data):\n",
    "    pass\n",
    "\n",
    "## Get n tweets\n",
    "def get_ntweets(num_tweets=100):\n",
    "    data = []\n",
    "    tweet_ids = set()\n",
    "    last_position = driver.execute_script(\"return window.pageYOffset;\")\n",
    "    scrolling = True\n",
    "\n",
    "    while scrolling:\n",
    "        page_cards = []\n",
    "        while len(page_cards) < 1:\n",
    "            page_cards = driver.find_elements_by_xpath('//article[@data-testid=\"tweet\"]')\n",
    "\n",
    "        min_tweets = -1*min(len(page_cards), 15)\n",
    "\n",
    "        for card in page_cards[min_tweets:]:\n",
    "            tweet = get_tweet_data(card)\n",
    "            if tweet:\n",
    "                tweet_id = ''.join(tweet)\n",
    "                if tweet_id not in tweet_ids:\n",
    "                    tweet_ids.add(tweet_id)\n",
    "                    if len(data) == num_tweets:\n",
    "                        scrolling = False\n",
    "                        break\n",
    "                    data.append(tweet)\n",
    "\n",
    "        scroll_attempt = 0\n",
    "        while True:\n",
    "            # check scroll position\n",
    "            driver.execute_script('window.scrollTo(0, document.body.scrollHeight);')\n",
    "            sleep(1+get_rand_offset(2))\n",
    "            curr_position = driver.execute_script(\"return window.pageYOffset;\")\n",
    "            if last_position == curr_position:\n",
    "                scroll_attempt += 1\n",
    "\n",
    "                # end of scroll region\n",
    "                if scroll_attempt >= 3:\n",
    "                    scrolling = False\n",
    "                    break\n",
    "                else:\n",
    "                    sleep(1+get_rand_offset(2)) # attempt another scroll\n",
    "            else:\n",
    "                last_position = curr_position\n",
    "                break\n",
    "    return data\n",
    "\n",
    "## Get specific date tweets\n",
    "def get_specific_date_tweets(search_term, date, num_tweets=100):\n",
    "    url_to_visit = 'https://twitter.com/search?f=live&q=(%23Covid19)%20lang%3Aen\n",
    "    '%20until%3A2020-05-02%20since%3A2020-05-01&src=typed_query'\n",
    "    visit_site(site=url_to_visit)\n",
    "    tweets = get_ntweets(num_tweets=num_tweets)\n",
    "    write_to_file(fname=fname, data=tweets)\n",
    "    pass\n",
    "\n",
    "    \n",
    "\n",
    "## Description\n",
    "## Takes\n",
    "## Returns\n",
    "def get_tweet_data(card):\n",
    "    \"\"\"Extract data from tweet card\"\"\"\n",
    "    username = card.find_element_by_xpath('.//span').text\n",
    "    try:\n",
    "        handle = card.find_element_by_xpath('.//span[contains(text(), \"@\")]').text\n",
    "    except NoSuchElementException:\n",
    "        return\n",
    "    \n",
    "    try:\n",
    "        postdate = card.find_element_by_xpath('.//time').get_attribute('datetime')\n",
    "    except NoSuchElementException:\n",
    "        return\n",
    "    \n",
    "    comment = card.find_element_by_xpath('.//div[2]/div[2]/div[1]').text\n",
    "    responding = card.find_element_by_xpath('.//div[2]/div[2]/div[2]').text\n",
    "    text = comment + responding\n",
    "    reply_cnt = card.find_element_by_xpath('.//div[@data-testid=\"reply\"]').text\n",
    "    retweet_cnt = card.find_element_by_xpath('.//div[@data-testid=\"retweet\"]').text\n",
    "    like_cnt = card.find_element_by_xpath('.//div[@data-testid=\"like\"]').text\n",
    "    \n",
    "    # get a string of all emojis contained in the tweet\n",
    "    \"\"\"Emojis are stored as images... so I convert the filename, which is stored as unicode, into \n",
    "    the emoji character.\"\"\"\n",
    "    emoji_tags = card.find_elements_by_xpath('.//img[contains(@src, \"emoji\")]')\n",
    "    emoji_list = []\n",
    "    for tag in emoji_tags:\n",
    "        filename = tag.get_attribute('src')\n",
    "        try:\n",
    "            emoji = chr(int(re.search(r'svg\\/([a-z0-9]+)\\.svg', filename).group(1), base=16))\n",
    "        except AttributeError:\n",
    "            continue\n",
    "        if emoji:\n",
    "            emoji_list.append(emoji)\n",
    "    emojis = ' '.join(emoji_list)\n",
    "    \n",
    "    tweet = (username, handle, postdate, text, emojis, reply_cnt, retweet_cnt, like_cnt)\n",
    "    return tweet   "
   ]
  },
  {
   "cell_type": "code",
   "execution_count": null,
   "id": "4dc3a19d",
   "metadata": {},
   "outputs": [],
   "source": [
    "## Initialization: To be run only once at the begining\n",
    "driver = None"
   ]
  },
  {
   "cell_type": "code",
   "execution_count": null,
   "id": "8acbcc8d",
   "metadata": {},
   "outputs": [],
   "source": [
    "## Get the browser\n",
    "driver = get_driver()"
   ]
  },
  {
   "cell_type": "code",
   "execution_count": null,
   "id": "ba053990",
   "metadata": {},
   "outputs": [],
   "source": [
    "## Webdriver support following\n",
    "print(f'dir of webdriver: {dir(driver)}')"
   ]
  },
  {
   "cell_type": "code",
   "execution_count": null,
   "id": "d4df0e41",
   "metadata": {},
   "outputs": [],
   "source": [
    "## Visit Google\n",
    "visit_site()"
   ]
  },
  {
   "cell_type": "code",
   "execution_count": null,
   "id": "3fb71d52",
   "metadata": {},
   "outputs": [],
   "source": [
    "## Visit twitter\n",
    "visit_site(site='https://twitter.com/')"
   ]
  },
  {
   "cell_type": "code",
   "execution_count": null,
   "id": "95590eb3",
   "metadata": {},
   "outputs": [],
   "source": [
    "twitter_cookies = driver.get_cookies()"
   ]
  },
  {
   "cell_type": "code",
   "execution_count": null,
   "id": "ba8c3d6f",
   "metadata": {},
   "outputs": [],
   "source": [
    "print(twitter_cookies)"
   ]
  },
  {
   "cell_type": "code",
   "execution_count": null,
   "id": "a280507b",
   "metadata": {},
   "outputs": [],
   "source": [
    "## Deletes the current cookies\n",
    "driver.delete_all_cookies()"
   ]
  },
  {
   "cell_type": "code",
   "execution_count": null,
   "id": "9f54c880",
   "metadata": {},
   "outputs": [],
   "source": [
    "## Restore the cookie\n",
    "for cookie in twitter_cookies:\n",
    "    #print(f'cookie:{cookie}')\n",
    "    driver.add_cookie(cookie_dict=cookie)"
   ]
  },
  {
   "cell_type": "code",
   "execution_count": null,
   "id": "8f070d20",
   "metadata": {},
   "outputs": [],
   "source": [
    "## Refreshes the page\n",
    "driver.refresh()"
   ]
  },
  {
   "cell_type": "code",
   "execution_count": null,
   "id": "cd6d2dbb",
   "metadata": {},
   "outputs": [],
   "source": [
    "## Search\n",
    "visit_site(site='https://twitter.com/search?f=live&q=(%23Covid19)%20lang%3Aen%20until%3A2020-05-02%20since%3A2020-05-01&src=typed_query')"
   ]
  },
  {
   "cell_type": "code",
   "execution_count": null,
   "id": "158bcb7b",
   "metadata": {},
   "outputs": [],
   "source": [
    "# get all tweets on the page\n",
    "data = get_ntweets(num_tweets=5)"
   ]
  },
  {
   "cell_type": "code",
   "execution_count": null,
   "id": "25031c0e",
   "metadata": {},
   "outputs": [],
   "source": [
    "print(data)"
   ]
  },
  {
   "cell_type": "code",
   "execution_count": null,
   "id": "c326154d",
   "metadata": {},
   "outputs": [],
   "source": [
    "len(data)"
   ]
  },
  {
   "cell_type": "code",
   "execution_count": null,
   "id": "7ade7b19",
   "metadata": {},
   "outputs": [],
   "source": []
  }
 ],
 "metadata": {
  "kernelspec": {
   "display_name": "Python 3.9.6 64-bit ('ml_dl_39': conda)",
   "language": "python",
   "name": "python396jvsc74a57bd09e2350853ad79bd802b6560f5eaea61921636de696b9e5e8f0a88e24dc41c7f1"
  },
  "language_info": {
   "codemirror_mode": {
    "name": "ipython",
    "version": 3
   },
   "file_extension": ".py",
   "mimetype": "text/x-python",
   "name": "python",
   "nbconvert_exporter": "python",
   "pygments_lexer": "ipython3",
   "version": "3.9.6"
  }
 },
 "nbformat": 4,
 "nbformat_minor": 5
}
