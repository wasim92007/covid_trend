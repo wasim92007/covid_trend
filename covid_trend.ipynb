{
 "cells": [
  {
   "cell_type": "code",
   "execution_count": 1,
   "id": "d740465c",
   "metadata": {},
   "outputs": [],
   "source": [
    "## All the external libraries\n",
    "import re\n",
    "import csv\n",
    "from getpass import getpass\n",
    "from time import sleep\n",
    "import random\n",
    "\n",
    "from selenium import webdriver\n",
    "from selenium.webdriver.chrome.service import Service\n",
    "from webdriver_manager.chrome import ChromeDriverManager\n",
    "\n",
    "from selenium.webdriver.common.keys import Keys\n",
    "from selenium.common.exceptions import NoSuchElementException\n",
    "#from msedge.selenium_tools import Edge, EdgeOptions\n",
    "from selenium.webdriver import Chrome"
   ]
  },
  {
   "cell_type": "code",
   "execution_count": 2,
   "id": "ac02d7b6",
   "metadata": {},
   "outputs": [],
   "source": [
    "## All the internal libraries"
   ]
  },
  {
   "cell_type": "code",
   "execution_count": 3,
   "id": "5e6faed4",
   "metadata": {},
   "outputs": [],
   "source": [
    "####### All the functions #######\n",
    "\n",
    "## Get random time offset\n",
    "def get_rand_offset(t=4):\n",
    "    r = random.randint(0, t)\n",
    "    r += random.random()\n",
    "    return r\n",
    "\n",
    "#### Get the browser\n",
    "## Return <class 'selenium.webdriver.chrome.webdriver.WebDriver'>\n",
    "## Opens an empty browser\n",
    "def get_driver():\n",
    "    if driver == None:\n",
    "        return webdriver.Chrome(service=Service(ChromeDriverManager().install()))\n",
    "    else:\n",
    "        return driver\n",
    "\n",
    "## Go to address\n",
    "def visit_site(site=\"https://www.google.com\"):\n",
    "    driver.get(site)\n",
    "    \n",
    "## Add tweets to file\n",
    "def write_to_file(fname, data):\n",
    "    pass\n",
    "\n",
    "## Get n tweets\n",
    "def get_ntweets(num_tweets=100):\n",
    "    data = []\n",
    "    tweet_ids = set()\n",
    "    last_position = driver.execute_script(\"return window.pageYOffset;\")\n",
    "    scrolling = True\n",
    "\n",
    "    while scrolling:\n",
    "        page_cards = []\n",
    "        while len(page_cards) < 1:\n",
    "            page_cards = driver.find_elements_by_xpath('//article[@data-testid=\"tweet\"]')\n",
    "\n",
    "        min_tweets = -1*min(len(page_cards), 15)\n",
    "\n",
    "        for card in page_cards[min_tweets:]:\n",
    "            tweet = get_tweet_data(card)\n",
    "            if tweet:\n",
    "                tweet_id = ''.join(tweet)\n",
    "                if tweet_id not in tweet_ids:\n",
    "                    tweet_ids.add(tweet_id)\n",
    "                    if len(data) == num_tweets:\n",
    "                        scrolling = False\n",
    "                        break\n",
    "                    data.append(tweet)\n",
    "\n",
    "        scroll_attempt = 0\n",
    "        while True:\n",
    "            # check scroll position\n",
    "            driver.execute_script('window.scrollTo(0, document.body.scrollHeight);')\n",
    "            sleep(1+get_rand_offset(2))\n",
    "            curr_position = driver.execute_script(\"return window.pageYOffset;\")\n",
    "            if last_position == curr_position:\n",
    "                scroll_attempt += 1\n",
    "\n",
    "                # end of scroll region\n",
    "                if scroll_attempt >= 3:\n",
    "                    scrolling = False\n",
    "                    break\n",
    "                else:\n",
    "                    sleep(1+get_rand_offset(2)) # attempt another scroll\n",
    "            else:\n",
    "                last_position = curr_position\n",
    "                break\n",
    "    return data\n",
    "\n",
    "## Get specific date tweets\n",
    "def get_specific_date_tweets(search_term, date, num_tweets=100):\n",
    "    url_to_visit = 'https://twitter.com/search?f=live&q=(%23Covid19)%20lang%3Aen\n",
    "    '%20until%3A2020-05-02%20since%3A2020-05-01&src=typed_query'\n",
    "    visit_site(site=url_to_visit)\n",
    "    tweets = get_ntweets(num_tweets=num_tweets)\n",
    "    write_to_file(fname=fname, data=tweets)\n",
    "    pass\n",
    "\n",
    "    \n",
    "\n",
    "## Description\n",
    "## Takes\n",
    "## Returns\n",
    "def get_tweet_data(card):\n",
    "    \"\"\"Extract data from tweet card\"\"\"\n",
    "    username = card.find_element_by_xpath('.//span').text\n",
    "    try:\n",
    "        handle = card.find_element_by_xpath('.//span[contains(text(), \"@\")]').text\n",
    "    except NoSuchElementException:\n",
    "        return\n",
    "    \n",
    "    try:\n",
    "        postdate = card.find_element_by_xpath('.//time').get_attribute('datetime')\n",
    "    except NoSuchElementException:\n",
    "        return\n",
    "    \n",
    "    comment = card.find_element_by_xpath('.//div[2]/div[2]/div[1]').text\n",
    "    responding = card.find_element_by_xpath('.//div[2]/div[2]/div[2]').text\n",
    "    text = comment + responding\n",
    "    reply_cnt = card.find_element_by_xpath('.//div[@data-testid=\"reply\"]').text\n",
    "    retweet_cnt = card.find_element_by_xpath('.//div[@data-testid=\"retweet\"]').text\n",
    "    like_cnt = card.find_element_by_xpath('.//div[@data-testid=\"like\"]').text\n",
    "    \n",
    "    # get a string of all emojis contained in the tweet\n",
    "    \"\"\"Emojis are stored as images... so I convert the filename, which is stored as unicode, into \n",
    "    the emoji character.\"\"\"\n",
    "    emoji_tags = card.find_elements_by_xpath('.//img[contains(@src, \"emoji\")]')\n",
    "    emoji_list = []\n",
    "    for tag in emoji_tags:\n",
    "        filename = tag.get_attribute('src')\n",
    "        try:\n",
    "            emoji = chr(int(re.search(r'svg\\/([a-z0-9]+)\\.svg', filename).group(1), base=16))\n",
    "        except AttributeError:\n",
    "            continue\n",
    "        if emoji:\n",
    "            emoji_list.append(emoji)\n",
    "    emojis = ' '.join(emoji_list)\n",
    "    \n",
    "    tweet = (username, handle, postdate, text, emojis, reply_cnt, retweet_cnt, like_cnt)\n",
    "    return tweet   "
   ]
  },
  {
   "cell_type": "code",
   "execution_count": 4,
   "id": "4dc3a19d",
   "metadata": {},
   "outputs": [],
   "source": [
    "## Initialization: To be run only once at the begining\n",
    "driver = None"
   ]
  },
  {
   "cell_type": "code",
   "execution_count": 5,
   "id": "8acbcc8d",
   "metadata": {},
   "outputs": [
    {
     "name": "stderr",
     "output_type": "stream",
     "text": [
      "\n",
      "\n",
      "====== WebDriver manager ======\n",
      "Current google-chrome version is 99.0.4844\n",
      "Get LATEST chromedriver version for 99.0.4844 google-chrome\n",
      "There is no [mac64] chromedriver for browser  in cache\n",
      "Trying to download new driver from https://chromedriver.storage.googleapis.com/99.0.4844.51/chromedriver_mac64.zip\n",
      "Driver has been saved in cache [/Users/wasim/.wdm/drivers/chromedriver/mac64/99.0.4844.51]\n"
     ]
    }
   ],
   "source": [
    "## Get the browser\n",
    "driver = get_driver()"
   ]
  },
  {
   "cell_type": "code",
   "execution_count": 7,
   "id": "ba053990",
   "metadata": {},
   "outputs": [
    {
     "name": "stdout",
     "output_type": "stream",
     "text": [
      "dir of webdriver: ['__abstractmethods__', '__class__', '__delattr__', '__dict__', '__dir__', '__doc__', '__enter__', '__eq__', '__exit__', '__format__', '__ge__', '__getattribute__', '__gt__', '__hash__', '__init__', '__init_subclass__', '__le__', '__lt__', '__module__', '__ne__', '__new__', '__reduce__', '__reduce_ex__', '__repr__', '__setattr__', '__sizeof__', '__str__', '__subclasshook__', '__weakref__', '_abc_impl', '_file_detector', '_get_cdp_details', '_is_remote', '_mobile', '_shadowroot_cls', '_switch_to', '_unwrap_value', '_web_element_cls', '_wrap_value', 'add_cookie', 'application_cache', 'back', 'bidi_connection', 'capabilities', 'caps', 'close', 'command_executor', 'create_options', 'create_web_element', 'current_url', 'current_window_handle', 'delete_all_cookies', 'delete_cookie', 'delete_network_conditions', 'desired_capabilities', 'error_handler', 'execute', 'execute_async_script', 'execute_cdp_cmd', 'execute_script', 'file_detector', 'file_detector_context', 'find_element', 'find_element_by_class_name', 'find_element_by_css_selector', 'find_element_by_id', 'find_element_by_link_text', 'find_element_by_name', 'find_element_by_partial_link_text', 'find_element_by_tag_name', 'find_element_by_xpath', 'find_elements', 'find_elements_by_class_name', 'find_elements_by_css_selector', 'find_elements_by_id', 'find_elements_by_link_text', 'find_elements_by_name', 'find_elements_by_partial_link_text', 'find_elements_by_tag_name', 'find_elements_by_xpath', 'forward', 'fullscreen_window', 'get', 'get_cookie', 'get_cookies', 'get_issue_message', 'get_log', 'get_network_conditions', 'get_pinned_scripts', 'get_screenshot_as_base64', 'get_screenshot_as_file', 'get_screenshot_as_png', 'get_sinks', 'get_window_position', 'get_window_rect', 'get_window_size', 'implicitly_wait', 'launch_app', 'log_types', 'maximize_window', 'minimize_window', 'mobile', 'name', 'orientation', 'page_source', 'pin_script', 'pinned_scripts', 'port', 'print_page', 'quit', 'refresh', 'save_screenshot', 'service', 'session_id', 'set_network_conditions', 'set_page_load_timeout', 'set_permissions', 'set_script_timeout', 'set_sink_to_use', 'set_window_position', 'set_window_rect', 'set_window_size', 'start_client', 'start_desktop_mirroring', 'start_session', 'start_tab_mirroring', 'stop_casting', 'stop_client', 'switch_to', 'timeouts', 'title', 'unpin', 'vendor_prefix', 'window_handles']\n"
     ]
    }
   ],
   "source": [
    "## Webdriver support following\n",
    "print(f'dir of webdriver: {dir(driver)}')"
   ]
  },
  {
   "cell_type": "code",
   "execution_count": 8,
   "id": "d4df0e41",
   "metadata": {},
   "outputs": [],
   "source": [
    "## Visit Google\n",
    "visit_site()"
   ]
  },
  {
   "cell_type": "code",
   "execution_count": 9,
   "id": "3fb71d52",
   "metadata": {},
   "outputs": [],
   "source": [
    "## Visit twitter\n",
    "visit_site(site='https://twitter.com/')"
   ]
  },
  {
   "cell_type": "code",
   "execution_count": 10,
   "id": "95590eb3",
   "metadata": {},
   "outputs": [],
   "source": [
    "twitter_cookies = driver.get_cookies()"
   ]
  },
  {
   "cell_type": "code",
   "execution_count": 11,
   "id": "ba8c3d6f",
   "metadata": {},
   "outputs": [
    {
     "name": "stdout",
     "output_type": "stream",
     "text": [
      "[{'domain': '.twitter.com', 'expiry': 1646798151, 'httpOnly': True, 'name': 'att', 'path': '/', 'sameSite': 'None', 'secure': True, 'value': '1-yNFMLDh5Su1EvMbeHSgjcBmxDu9TlUObLZFHxTvw'}, {'domain': '.twitter.com', 'expiry': 1646722514, 'httpOnly': False, 'name': 'gt', 'path': '/', 'secure': True, 'value': '1501043840580349956'}, {'domain': '.twitter.com', 'expiry': 1709783718, 'httpOnly': False, 'name': '_ga', 'path': '/', 'secure': False, 'value': 'GA1.2.1984098986.1646711718'}, {'domain': '.twitter.com', 'expiry': 1693972551, 'httpOnly': True, 'name': 'kdt', 'path': '/', 'secure': True, 'value': 'uhW8ppftr57SEcdf9AWo5E3AeOBNzMtGkWkNJb3v'}, {'domain': '.twitter.com', 'expiry': 1646798118, 'httpOnly': False, 'name': '_gid', 'path': '/', 'secure': False, 'value': 'GA1.2.1338411382.1646711718'}, {'domain': '.twitter.com', 'expiry': 1709783712, 'httpOnly': False, 'name': 'personalization_id', 'path': '/', 'sameSite': 'None', 'secure': True, 'value': '\"v1_wtb2MCio99tVklwUnuJgWw==\"'}, {'domain': '.twitter.com', 'expiry': 1678247751, 'httpOnly': False, 'name': 'twid', 'path': '/', 'sameSite': 'None', 'secure': True, 'value': 'u%3D190163626'}, {'domain': '.twitter.com', 'expiry': 1709783712, 'httpOnly': False, 'name': 'guest_id', 'path': '/', 'sameSite': 'None', 'secure': True, 'value': 'v1%3A164671171275776135'}, {'domain': 'twitter.com', 'expiry': 1646798135, 'httpOnly': False, 'name': '_sl', 'path': '/', 'secure': True, 'value': '1'}, {'domain': '.twitter.com', 'expiry': 1709783712, 'httpOnly': False, 'name': 'guest_id_ads', 'path': '/', 'sameSite': 'None', 'secure': True, 'value': 'v1%3A164671171275776135'}, {'domain': '.twitter.com', 'expiry': 1804391751, 'httpOnly': False, 'name': 'ct0', 'path': '/', 'sameSite': 'Lax', 'secure': True, 'value': 'f5da073135200575943bf673cdcac25705b78fe0b01c9703dd9c4eeed0370e56eebe9e44ea13622f1ed947b0da9ac9a54e37a38234feb8cff2a92c1445c4f01bd3fefb5f33f0fa890c46a76d06bacfcd'}, {'domain': '.twitter.com', 'expiry': 1804391751, 'httpOnly': True, 'name': 'auth_token', 'path': '/', 'sameSite': 'None', 'secure': True, 'value': 'ab9ab547d404a35c177fb0278fe9413a98202939'}, {'domain': '.twitter.com', 'httpOnly': True, 'name': '_twitter_sess', 'path': '/', 'secure': True, 'value': 'BAh7CSIKZmxhc2hJQzonQWN0aW9uQ29udHJvbGxlcjo6Rmxhc2g6OkZsYXNo%250ASGFzaHsABjoKQHVzZWR7ADoPY3JlYXRlZF9hdGwrCLwGq2d%252FAToMY3NyZl9p%250AZCIlNjBhZmZmNDJmMmJjYzBkNTQ5NWY2YWNkYmQ1OWI0MGY6B2lkIiU0YWEw%250AZGE3ZmNlOTZiZjE0NTJkM2M1ZjMzMGVlMWUwOQ%253D%253D--d47d36d3fc27801e3408b805ef08133024af2c92'}, {'domain': '.twitter.com', 'expiry': 1709783712, 'httpOnly': False, 'name': 'guest_id_marketing', 'path': '/', 'sameSite': 'None', 'secure': True, 'value': 'v1%3A164671171275776135'}]\n"
     ]
    }
   ],
   "source": [
    "print(twitter_cookies)"
   ]
  },
  {
   "cell_type": "code",
   "execution_count": 12,
   "id": "a280507b",
   "metadata": {},
   "outputs": [],
   "source": [
    "## Deletes the current cookies\n",
    "driver.delete_all_cookies()"
   ]
  },
  {
   "cell_type": "code",
   "execution_count": 15,
   "id": "9f54c880",
   "metadata": {},
   "outputs": [],
   "source": [
    "## Restore the cookie\n",
    "for cookie in twitter_cookies:\n",
    "    #print(f'cookie:{cookie}')\n",
    "    driver.add_cookie(cookie_dict=cookie)"
   ]
  },
  {
   "cell_type": "code",
   "execution_count": 17,
   "id": "8f070d20",
   "metadata": {},
   "outputs": [],
   "source": [
    "## Refreshes the page\n",
    "driver.refresh()"
   ]
  },
  {
   "cell_type": "code",
   "execution_count": 20,
   "id": "cd6d2dbb",
   "metadata": {},
   "outputs": [],
   "source": [
    "## Search\n",
    "visit_site(site='https://twitter.com/search?f=live&q=(%23Covid19)%20lang%3Aen%20until%3A2020-05-02%20since%3A2020-05-01&src=typed_query')"
   ]
  },
  {
   "cell_type": "code",
   "execution_count": 21,
   "id": "158bcb7b",
   "metadata": {},
   "outputs": [
    {
     "name": "stderr",
     "output_type": "stream",
     "text": [
      "/var/folders/95/zkn8qt652zv_1vjspb00z53h0000gn/T/ipykernel_32845/1248779822.py:36: DeprecationWarning: find_elements_by_xpath is deprecated. Please use find_elements(by=By.XPATH, value=xpath) instead\n",
      "  page_cards = driver.find_elements_by_xpath('//article[@data-testid=\"tweet\"]')\n",
      "/Users/wasim/opt/miniconda3/envs/ml_dl_39/lib/python3.9/site-packages/selenium/webdriver/remote/webelement.py:393: UserWarning: find_element_by_xpath is deprecated. Please use find_element(by=By.XPATH, value=xpath) instead\n",
      "  warnings.warn(\"find_element_by_xpath is deprecated. Please use find_element(by=By.XPATH, value=xpath) instead\")\n",
      "/Users/wasim/opt/miniconda3/envs/ml_dl_39/lib/python3.9/site-packages/selenium/webdriver/remote/webelement.py:426: UserWarning: find_elements_by_xpath is deprecated. Please use find_elements(by=By.XPATH, value=xpath) instead\n",
      "  warnings.warn(\"find_elements_by_xpath is deprecated. Please use find_elements(by=By.XPATH, value=xpath) instead\")\n"
     ]
    }
   ],
   "source": [
    "# get all tweets on the page\n",
    "data = get_ntweets(num_tweets=5)"
   ]
  },
  {
   "cell_type": "code",
   "execution_count": 22,
   "id": "25031c0e",
   "metadata": {},
   "outputs": [
    {
     "name": "stdout",
     "output_type": "stream",
     "text": [
      "[('Ed Ward MD', '@EdWardMDBlog', '2020-05-01T23:59:57.000Z', 'Ed Ward MD\\n@EdWardMDBlog\\n·\\nMay 1, 2020Ed Ward\\nApril 15 at 3:26 PM · \\n#GileadSciences #remdesivir #ICYMI #COVID2019 #COVID19 #CoronaVirus #SARSCov2 #EffectiveTreatment 1 #Oxygen 2 Remdesivir #AntiViral 3 If infection #Azithromycin add 4 #Roche #Actemra if #AntiCytokineStorm #DrEd #EdWardMD #TwitterCensors \"Ed Ward MD\"\\n1\\n4\\n1', '', '1', '4', '1'), ('Archdiocese of STL', '@archstl', '2020-05-01T23:59:54.000Z', 'Archdiocese of STL\\n@archstl\\n·\\nMay 1, 2020Tune in at http://cathedralstl.org now and support \\n@cc_stl\\n ‘s #COVID19 relief efforts!\\nFOX2now\\n@FOX2now\\n · May 1, 2020\\nCathedral Basilica of St. Louis to host online concert fundraiser https://fox2now.com/news/coronavirus/cathedral-basilica-of-st-louis-to-host-online-concert-fundraiser/?taid=5eacb238d9c55b000110d67a&utm_campaign=trueAnthem%3A+New+Content+%28Feed%29&utm_medium=trueAnthem&utm_source=twitter…\\n2', '', '', '', '2'), ('Robert Hanka', '@HankaRobert', '2020-05-01T23:59:52.000Z', 'Robert Hanka\\n@HankaRobert\\n·\\nMay 1, 2020They all need to stop by the estate planning kyosk \\n#coronavirus #COVID19 #IndictTrump \\n#CoronavirusCrisis \\n#PenceKnew #BenedictDonald\\nGrant Schulte\\n@GrantSchulte\\n · May 1, 2020\\nNebraska mall sees early trickle of patrons on reopening day (from @AP) https://apnews.com/cd37c0694ca48d3e765f1f2fb0715f57…', '', '', '', ''), ('@z0ng', '@z0ng', '2020-05-01T23:59:52.000Z', '@z0ng\\n·\\nMay 1, 2020The irony in Trump trying to blame Obama for having \"broken tests\" .....lmao no you stupid fuck its our healthcare system that is broken.... #covid19\\n1', '', '', '', '1'), ('samayajyothi', '@samayajyothi12', '2020-05-01T23:59:51.000Z', 'samayajyothi\\n@samayajyothi12\\n·\\nMay 1, 2020Central Government has categoried districts falling in states as Red, Green and Orange based on the #COVID outbreak and number of active cases. #LockdownExtended #lockdown #coronavirus #coronavirusindia #Covid19… https://instagram.com/p/B_qiD2Ch9mI/?igshid=hle1n42bpxnp…', '', '', '', '')]\n"
     ]
    }
   ],
   "source": [
    "print(data)"
   ]
  },
  {
   "cell_type": "code",
   "execution_count": 23,
   "id": "c326154d",
   "metadata": {},
   "outputs": [
    {
     "data": {
      "text/plain": [
       "5"
      ]
     },
     "execution_count": 23,
     "metadata": {},
     "output_type": "execute_result"
    }
   ],
   "source": [
    "len(data)"
   ]
  },
  {
   "cell_type": "code",
   "execution_count": null,
   "id": "7ade7b19",
   "metadata": {},
   "outputs": [],
   "source": []
  }
 ],
 "metadata": {
  "kernelspec": {
   "display_name": "Python 3.9.6 64-bit ('ml_dl_39': conda)",
   "language": "python",
   "name": "python396jvsc74a57bd09e2350853ad79bd802b6560f5eaea61921636de696b9e5e8f0a88e24dc41c7f1"
  },
  "language_info": {
   "codemirror_mode": {
    "name": "ipython",
    "version": 3
   },
   "file_extension": ".py",
   "mimetype": "text/x-python",
   "name": "python",
   "nbconvert_exporter": "python",
   "pygments_lexer": "ipython3",
   "version": "3.9.6"
  }
 },
 "nbformat": 4,
 "nbformat_minor": 5
}
