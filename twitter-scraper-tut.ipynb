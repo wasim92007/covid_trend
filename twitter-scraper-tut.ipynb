{
 "cells": [
  {
   "cell_type": "markdown",
   "metadata": {},
   "source": [
    "# Twitter Scraper"
   ]
  },
  {
   "cell_type": "code",
   "execution_count": 1,
   "metadata": {},
   "outputs": [],
   "source": [
    "import re\n",
    "import csv\n",
    "from getpass import getpass\n",
    "from time import sleep\n",
    "from selenium.webdriver.common.keys import Keys\n",
    "from selenium.common.exceptions import NoSuchElementException\n",
    "#from msedge.selenium_tools import Edge, EdgeOptions\n",
    "from selenium.webdriver import Chrome\n",
    "\n",
    "def get_tweet_data(card):\n",
    "    \"\"\"Extract data from tweet card\"\"\"\n",
    "    username = card.find_element_by_xpath('.//span').text\n",
    "    try:\n",
    "        handle = card.find_element_by_xpath('.//span[contains(text(), \"@\")]').text\n",
    "    except NoSuchElementException:\n",
    "        return\n",
    "    \n",
    "    try:\n",
    "        postdate = card.find_element_by_xpath('.//time').get_attribute('datetime')\n",
    "    except NoSuchElementException:\n",
    "        return\n",
    "    \n",
    "    comment = card.find_element_by_xpath('.//div[2]/div[2]/div[1]').text\n",
    "    responding = card.find_element_by_xpath('.//div[2]/div[2]/div[2]').text\n",
    "    text = comment + responding\n",
    "    reply_cnt = card.find_element_by_xpath('.//div[@data-testid=\"reply\"]').text\n",
    "    retweet_cnt = card.find_element_by_xpath('.//div[@data-testid=\"retweet\"]').text\n",
    "    like_cnt = card.find_element_by_xpath('.//div[@data-testid=\"like\"]').text\n",
    "    \n",
    "    # get a string of all emojis contained in the tweet\n",
    "    \"\"\"Emojis are stored as images... so I convert the filename, which is stored as unicode, into \n",
    "    the emoji character.\"\"\"\n",
    "    emoji_tags = card.find_elements_by_xpath('.//img[contains(@src, \"emoji\")]')\n",
    "    emoji_list = []\n",
    "    for tag in emoji_tags:\n",
    "        filename = tag.get_attribute('src')\n",
    "        try:\n",
    "            emoji = chr(int(re.search(r'svg\\/([a-z0-9]+)\\.svg', filename).group(1), base=16))\n",
    "        except AttributeError:\n",
    "            continue\n",
    "        if emoji:\n",
    "            emoji_list.append(emoji)\n",
    "    emojis = ' '.join(emoji_list)\n",
    "    \n",
    "    tweet = (username, handle, postdate, text, emojis, reply_cnt, retweet_cnt, like_cnt)\n",
    "    return tweet    "
   ]
  },
  {
   "cell_type": "code",
   "execution_count": 2,
   "metadata": {},
   "outputs": [],
   "source": [
    "driver = None"
   ]
  },
  {
   "cell_type": "code",
   "execution_count": 3,
   "metadata": {},
   "outputs": [],
   "source": [
    "def get_driver():\n",
    "    if driver == None:\n",
    "        return Chrome(executable_path=exe)\n",
    "    else:\n",
    "        return driver"
   ]
  },
  {
   "cell_type": "code",
   "execution_count": 4,
   "metadata": {},
   "outputs": [
    {
     "name": "stdout",
     "output_type": "stream",
     "text": [
      "username: \n",
      "Password: ········\n",
      "search term: #Covid19\n"
     ]
    },
    {
     "name": "stderr",
     "output_type": "stream",
     "text": [
      "/var/folders/95/zkn8qt652zv_1vjspb00z53h0000gn/T/ipykernel_22731/4033581749.py:3: DeprecationWarning: executable_path has been deprecated, please pass in a Service object\n",
      "  return Chrome(executable_path=exe)\n"
     ]
    },
    {
     "name": "stdout",
     "output_type": "stream",
     "text": [
      "Press any key to assult\n",
      "\n"
     ]
    },
    {
     "name": "stderr",
     "output_type": "stream",
     "text": [
      "/var/folders/95/zkn8qt652zv_1vjspb00z53h0000gn/T/ipykernel_22731/3725083298.py:32: DeprecationWarning: find_element_by_xpath is deprecated. Please use find_element(by=By.XPATH, value=xpath) instead\n",
      "  search_input = driver.find_element_by_xpath('//input[@aria-label=\"Search query\"]')\n",
      "/var/folders/95/zkn8qt652zv_1vjspb00z53h0000gn/T/ipykernel_22731/3725083298.py:38: DeprecationWarning: find_element_by_link_text is deprecated. Please use find_element(by=By.LINK_TEXT, value=link_text) instead\n",
      "  driver.find_element_by_link_text('Latest').click()\n"
     ]
    }
   ],
   "source": [
    "# application variables\n",
    "user = input('username: ')\n",
    "my_password = getpass('Password: ')\n",
    "search_term = input('search term: ')\n",
    "\n",
    "# create instance of web driver\n",
    "#options = EdgeOptions()\n",
    "#options.use_chromium = True\n",
    "#driver = Edge(options=options)\n",
    "#exe = '/Users/wasim/Applications/Google Chrome.app'\n",
    "exe = './chromedriver'\n",
    "\n",
    "#driver= Chrome(executable_path=exe)\n",
    "driver = get_driver()\n",
    "\n",
    "# navigate to login screen\n",
    "#driver.get('https://www.twitter.com/login')\n",
    "driver.get('https://www.twitter.com')\n",
    "driver.maximize_window()\n",
    "sleep(5)\n",
    "#username = driver.find_element_by_xpath('//input[@name=\"text\"]')\n",
    "#username.send_keys(user)\n",
    "#username.send_keys(Keys.RETURN)\n",
    "#sleep(3)\n",
    "#\n",
    "#password = driver.find_element_by_xpath('//input[@name=\"password\"]')\n",
    "#password.send_keys(my_password)\n",
    "#password.send_keys(Keys.RETURN)\n",
    "#sleep(3)\n",
    "print('Press any key to assult'); input()\n",
    "# find search input and search for term\n",
    "search_input = driver.find_element_by_xpath('//input[@aria-label=\"Search query\"]')\n",
    "search_input.send_keys(search_term)\n",
    "search_input.send_keys(Keys.RETURN)\n",
    "sleep(1)\n",
    "\n",
    "# navigate to historical 'latest' tab\n",
    "driver.find_element_by_link_text('Latest').click()"
   ]
  },
  {
   "cell_type": "code",
   "execution_count": 109,
   "metadata": {},
   "outputs": [
    {
     "name": "stderr",
     "output_type": "stream",
     "text": [
      "/var/folders/95/zkn8qt652zv_1vjspb00z53h0000gn/T/ipykernel_10429/4221107277.py:3: DeprecationWarning: find_element_by_xpath is deprecated. Please use find_element(by=By.XPATH, value=xpath) instead\n",
      "  search_input = driver.find_element_by_xpath('//input[@aria-label=\"Search query\"]')\n",
      "/var/folders/95/zkn8qt652zv_1vjspb00z53h0000gn/T/ipykernel_10429/4221107277.py:11: DeprecationWarning: find_element_by_link_text is deprecated. Please use find_element(by=By.LINK_TEXT, value=link_text) instead\n",
      "  driver.find_element_by_link_text('Latest').click()\n"
     ]
    }
   ],
   "source": [
    "# find search input and search for term\n",
    "search_term = '#Covid19'\n",
    "search_input = driver.find_element_by_xpath('//input[@aria-label=\"Search query\"]')\n",
    "#print(f'type:{type(search_input)}\\n {dir(search_input)}\\n {search_input}'); input()\n",
    "#print(search_input.get_property())\n",
    "search_input.send_keys(search_term)\n",
    "search_input.send_keys(Keys.RETURN)\n",
    "sleep(1)\n",
    "\n",
    "# navigate to historical 'latest' tab\n",
    "driver.find_element_by_link_text('Latest').click()"
   ]
  },
  {
   "cell_type": "code",
   "execution_count": 110,
   "metadata": {},
   "outputs": [
    {
     "name": "stderr",
     "output_type": "stream",
     "text": [
      "/var/folders/95/zkn8qt652zv_1vjspb00z53h0000gn/T/ipykernel_10429/269386355.py:1: DeprecationWarning: find_elements_by_xpath is deprecated. Please use find_elements(by=By.XPATH, value=xpath) instead\n",
      "  page_cards = driver.find_elements_by_xpath('//article[@data-testid=\"tweet\"]')\n"
     ]
    }
   ],
   "source": [
    "page_cards = driver.find_elements_by_xpath('//article[@data-testid=\"tweet\"]')"
   ]
  },
  {
   "cell_type": "code",
   "execution_count": 111,
   "metadata": {},
   "outputs": [
    {
     "name": "stdout",
     "output_type": "stream",
     "text": [
      "[<selenium.webdriver.remote.webelement.WebElement (session=\"aa1b1cd3a1f2ded508d3be813b4a1a7c\", element=\"a05406bc-3a7d-4a9a-ba0f-13dfb63074ed\")>, <selenium.webdriver.remote.webelement.WebElement (session=\"aa1b1cd3a1f2ded508d3be813b4a1a7c\", element=\"79914096-562b-4694-9309-98565e76f9a6\")>, <selenium.webdriver.remote.webelement.WebElement (session=\"aa1b1cd3a1f2ded508d3be813b4a1a7c\", element=\"1715b383-ddca-4a07-9a6f-1cff050794b0\")>, <selenium.webdriver.remote.webelement.WebElement (session=\"aa1b1cd3a1f2ded508d3be813b4a1a7c\", element=\"98daa584-93e9-488e-8381-12289578a08e\")>, <selenium.webdriver.remote.webelement.WebElement (session=\"aa1b1cd3a1f2ded508d3be813b4a1a7c\", element=\"8b51e191-4a01-4d0e-950f-f05501b79a0f\")>, <selenium.webdriver.remote.webelement.WebElement (session=\"aa1b1cd3a1f2ded508d3be813b4a1a7c\", element=\"e8e7e638-2645-4641-8163-69546a845d6a\")>]\n"
     ]
    }
   ],
   "source": [
    "print(page_cards)"
   ]
  },
  {
   "cell_type": "code",
   "execution_count": 112,
   "metadata": {},
   "outputs": [
    {
     "name": "stdout",
     "output_type": "stream",
     "text": [
      "('Tian_A1', '@Tian_A1', '2022-02-27T04:39:42.000Z', 'Tian_A1\\n@Tian_A1\\n·\\n12s#Hongkong allows #Covid19 home testing as daily cases soar [ http://channelnewsasia.com ] Il y a 17heures HONG KONG : Hong Kong health authorities said on Saturday (Feb 26) they would adjust COVID-19 testing procedures to allow some people to test fr\\nchannelnewsasia.com\\nHong Kong allows COVID-19 home testing as daily cases soar\\nHONG KONG: Hong Kong health authorities said on Saturday (Feb 26) they would adjust COVID-19 testing procedures to allow some people to test from home to ease long queues at designated testing...', '', '', '', '')\n"
     ]
    }
   ],
   "source": [
    "print(get_tweet_data(page_cards[0]))"
   ]
  },
  {
   "cell_type": "code",
   "execution_count": 113,
   "metadata": {},
   "outputs": [
    {
     "name": "stderr",
     "output_type": "stream",
     "text": [
      "/var/folders/95/zkn8qt652zv_1vjspb00z53h0000gn/T/ipykernel_10429/2943969445.py:8: DeprecationWarning: find_elements_by_xpath is deprecated. Please use find_elements(by=By.XPATH, value=xpath) instead\n",
      "  page_cards = driver.find_elements_by_xpath('//article[@data-testid=\"tweet\"]')\n"
     ]
    }
   ],
   "source": [
    "# get all tweets on the page\n",
    "data = []\n",
    "tweet_ids = set()\n",
    "last_position = driver.execute_script(\"return window.pageYOffset;\")\n",
    "scrolling = True\n",
    "\n",
    "while scrolling:\n",
    "    page_cards = driver.find_elements_by_xpath('//article[@data-testid=\"tweet\"]')\n",
    "    for card in page_cards[-15:]:\n",
    "        tweet = get_tweet_data(card)\n",
    "        if tweet:\n",
    "            tweet_id = ''.join(tweet)\n",
    "            if tweet_id not in tweet_ids:\n",
    "                tweet_ids.add(tweet_id)\n",
    "                data.append(tweet)\n",
    "    ## Wasim\n",
    "    break\n",
    "            \n",
    "    scroll_attempt = 0\n",
    "    while True:\n",
    "        # check scroll position\n",
    "        driver.execute_script('window.scrollTo(0, document.body.scrollHeight);')\n",
    "        sleep(2)\n",
    "        curr_position = driver.execute_script(\"return window.pageYOffset;\")\n",
    "        if last_position == curr_position:\n",
    "            scroll_attempt += 1\n",
    "            \n",
    "            # end of scroll region\n",
    "            if scroll_attempt >= 1:\n",
    "                scrolling = False\n",
    "                break\n",
    "            else:\n",
    "                sleep(2) # attempt another scroll\n",
    "        else:\n",
    "            last_position = curr_position\n",
    "            break\n",
    "\n",
    "# close the web driver\n",
    "driver.close()"
   ]
  },
  {
   "cell_type": "code",
   "execution_count": null,
   "metadata": {},
   "outputs": [],
   "source": []
  },
  {
   "cell_type": "markdown",
   "metadata": {},
   "source": [
    "## Saving the tweet data"
   ]
  },
  {
   "cell_type": "code",
   "execution_count": 114,
   "metadata": {},
   "outputs": [],
   "source": [
    "with open('turkcell_tweets.csv', 'w', newline='', encoding='utf-8') as f:\n",
    "    header = ['UserName', 'Handle', 'Timestamp', 'Text', 'Emojis', 'Comments', 'Likes', 'Retweets']\n",
    "    writer = csv.writer(f)\n",
    "    writer.writerow(header)\n",
    "    writer.writerows(data)"
   ]
  },
  {
   "cell_type": "code",
   "execution_count": 115,
   "metadata": {},
   "outputs": [
    {
     "name": "stdout",
     "output_type": "stream",
     "text": [
      "[<selenium.webdriver.remote.webelement.WebElement (session=\"aa1b1cd3a1f2ded508d3be813b4a1a7c\", element=\"a05406bc-3a7d-4a9a-ba0f-13dfb63074ed\")>, <selenium.webdriver.remote.webelement.WebElement (session=\"aa1b1cd3a1f2ded508d3be813b4a1a7c\", element=\"79914096-562b-4694-9309-98565e76f9a6\")>, <selenium.webdriver.remote.webelement.WebElement (session=\"aa1b1cd3a1f2ded508d3be813b4a1a7c\", element=\"1715b383-ddca-4a07-9a6f-1cff050794b0\")>, <selenium.webdriver.remote.webelement.WebElement (session=\"aa1b1cd3a1f2ded508d3be813b4a1a7c\", element=\"98daa584-93e9-488e-8381-12289578a08e\")>, <selenium.webdriver.remote.webelement.WebElement (session=\"aa1b1cd3a1f2ded508d3be813b4a1a7c\", element=\"8b51e191-4a01-4d0e-950f-f05501b79a0f\")>, <selenium.webdriver.remote.webelement.WebElement (session=\"aa1b1cd3a1f2ded508d3be813b4a1a7c\", element=\"e8e7e638-2645-4641-8163-69546a845d6a\")>]\n"
     ]
    }
   ],
   "source": [
    "print(page_cards)"
   ]
  },
  {
   "cell_type": "code",
   "execution_count": 116,
   "metadata": {},
   "outputs": [
    {
     "name": "stdout",
     "output_type": "stream",
     "text": [
      "[('Tian_A1', '@Tian_A1', '2022-02-27T04:39:42.000Z', 'Tian_A1\\n@Tian_A1\\n·\\n17s#Hongkong allows #Covid19 home testing as daily cases soar [ http://channelnewsasia.com ] Il y a 17heures HONG KONG : Hong Kong health authorities said on Saturday (Feb 26) they would adjust COVID-19 testing procedures to allow some people to test fr\\nchannelnewsasia.com\\nHong Kong allows COVID-19 home testing as daily cases soar\\nHONG KONG: Hong Kong health authorities said on Saturday (Feb 26) they would adjust COVID-19 testing procedures to allow some people to test from home to ease long queues at designated testing...', '', '', '', ''), ('Prof Kerryn Phelps AM', '@drkerrynphelps', '2022-02-27T04:39:31.000Z', \"Prof Kerryn Phelps AM\\n@drkerrynphelps\\n·\\n28sGood to see \\n@nswhealth\\n continuing to distribute COVID-safe messages.\\nN95 masks provide the best protection from #covid19 transmission. \\nIf you do not have well ventilated open spaces, get a HEPA air filter.\\nNSW Health\\n@NSWHealth\\n · 39m\\nKeep practicing COVID-safe behaviours!\\n\\n•Wash or sanitise your hands regularly\\n•Wear a mask on public transport & when you can't physically distance\\n•Maintain physical distancing\\n•Open & well-ventilated spaces reduce the risk of transmission\", '', '', '', ''), ('PIB in Odisha', '@PIBBhubaneswar', '2022-02-27T04:39:25.000Z', 'PIB in Odisha\\n@PIBBhubaneswar\\n·\\n34s#𝐂𝐎𝐕𝐈𝐃𝟏𝟗 𝐕𝐚𝐜𝐜𝐢𝐧𝐚𝐭𝐢𝐨𝐧 𝐔𝐏𝐃𝐀𝐓𝐄\\n\\nMore than 175.63 Cr vaccine doses provided to States/UTs.\\n\\nMore than 12.68 Cr doses still available with States/UTs to be administered.\\n\\nDetails  https://pib.gov.in/PressReleasePage.aspx?PRID=1801529…\\nDD News Odia (ଓଡିଆ) and 3 others', '💉 💉 ⏩', '', '', ''), ('Mughis Ahmed', '@Mugmed', '2022-02-27T04:39:24.000Z', 'Mughis Ahmed\\n@Mugmed\\n·\\n35sIt took a long time for the #COVID19 madness to be over', '', '', '', ''), ('fujikuro', '@fujikurok', '2022-02-27T04:39:13.000Z', 'fujikuro\\n@fujikurok\\n·\\n46s米国退役軍人の1000万人以上を対象にした研究で,#COVID19 に感染した人はそうでない人に比べて心血管疾患のリスクが1年以上高まることが示唆された\\n\\n•例)脳卒中は52%,心不全は72%リスク増加\\n•軽症でも重症でもリスクは高まる\\n•重症なら軽症より遥かにリスクが高い\\n•若いか高齢かや喫煙歴は関係ない', '', '', '', ''), ('กรมควบคุมโรค', '@ddc_riskcom', '2022-02-27T04:39:10.000Z', 'กรมควบคุมโรค\\n@ddc_riskcom\\n·\\n49s10 จังหวัดที่มีจำนวนผู้ติดเชื้อโควิด 19\\nในประเทศรายใหม่สูงสุด \\nวันที่ 27 กุมภาพันธ์ 2565\\n\\n#สถานการณ์โควิด19 #โควิด19 #COVID19\\n3', '', '', '3', '')]\n"
     ]
    }
   ],
   "source": [
    "print(data)"
   ]
  },
  {
   "cell_type": "code",
   "execution_count": null,
   "metadata": {},
   "outputs": [],
   "source": []
  }
 ],
 "metadata": {
  "kernelspec": {
   "display_name": "Python 3 (ipykernel)",
   "language": "python",
   "name": "python3"
  },
  "language_info": {
   "codemirror_mode": {
    "name": "ipython",
    "version": 3
   },
   "file_extension": ".py",
   "mimetype": "text/x-python",
   "name": "python",
   "nbconvert_exporter": "python",
   "pygments_lexer": "ipython3",
   "version": "3.9.6"
  }
 },
 "nbformat": 4,
 "nbformat_minor": 4
}
